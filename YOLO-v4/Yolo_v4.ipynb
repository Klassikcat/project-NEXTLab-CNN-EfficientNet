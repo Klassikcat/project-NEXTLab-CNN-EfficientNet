{
 "cells": [
  {
   "cell_type": "code",
   "execution_count": 24,
   "source": [
    "import tensorflow as tf\r\n",
    "import core.utils as utils\r\n",
    "from tensorflow.python.saved_model import tag_constants\r\n",
    "import cv2\r\n",
    "import numpy as np"
   ],
   "outputs": [],
   "metadata": {}
  },
  {
   "cell_type": "code",
   "execution_count": 25,
   "source": [
    "# set parameters\r\n",
    "MODEL_PATH = './checkpoints/yolov4-416'\r\n",
    "IOU_THRESHOLD = 0.45\r\n",
    "SCORE_THRESHOLD = 0.25\r\n",
    "INPUT_SIZE = 416"
   ],
   "outputs": [],
   "metadata": {}
  },
  {
   "cell_type": "code",
   "execution_count": 30,
   "source": [
    "# load model\r\n",
    "saved_model_loaded = tf.saved_model.load(MODEL_PATH, tags=[tag_constants.SERVING])\r\n",
    "yolo_v4 = saved_model_loaded.signatures['serving_default']"
   ],
   "outputs": [],
   "metadata": {}
  },
  {
   "cell_type": "code",
   "execution_count": 27,
   "source": [
    "def main(img_path):\r\n",
    "    #이미지를 로드합니다.\r\n",
    "    img = cv2.imread(img_path)\r\n",
    "    img = cv2.cvtColor(img, cv2.COLOR_BGR2RGB)\r\n",
    "\r\n",
    "    #이미지를 전처리합니다.\r\n",
    "    img_input = cv2.resize(img, (INPUT_SIZE, INPUT_SIZE))\r\n",
    "    img_input = img_input / 255.\r\n",
    "    img_input = img_input[np.newaxis, ...].astype(np.float32)\r\n",
    "    img_input = tf.constant(img_input)\r\n",
    "\r\n",
    "    #Yolo 모델을 이용해 입력 이미지에서 예측 박스를 받습니다. \r\n",
    "    pred_bbox = yolo_v4(img_input)\r\n",
    "\r\n",
    "    for key, value in pred_bbox.items():\r\n",
    "        boxes = value[:, :, 0:4]\r\n",
    "        pred_conf = value[:, :, 4:]\r\n",
    "\r\n",
    "    boxes, scores, classes, valid_detections = tf.image.combined_non_max_suppression(\r\n",
    "        boxes=tf.reshape(boxes, (tf.shape(boxes)[0], -1, 1, 4)),\r\n",
    "        scores=tf.reshape(\r\n",
    "            pred_conf, (tf.shape(pred_conf)[0], -1, tf.shape(pred_conf)[-1])),\r\n",
    "        max_output_size_per_class=50,\r\n",
    "        max_total_size=50,\r\n",
    "        iou_threshold=IOU_THRESHOLD,\r\n",
    "        score_threshold=SCORE_THRESHOLD\r\n",
    "    )\r\n",
    "\r\n",
    "    pred_bbox = [boxes.numpy(), scores.numpy(), classes.numpy(), valid_detections.numpy()]\r\n",
    "\r\n",
    "    #예측된 박스를 원본 이미지에 그려줍니다.\r\n",
    "    #car만 출력하기 위해 utils.draw_bbox를 수정했습니다.\r\n",
    "    result = utils.draw_bbox(img, pred_bbox)\r\n",
    "\r\n",
    "    result = cv2.cvtColor(np.array(result), cv2.COLOR_RGB2BGR)\r\n",
    "\r\n",
    "    save_path = img_path.split(\"/\")\r\n",
    "    img_name = save_path.pop()\r\n",
    "    save_path = \"/\".join(save_path)+\"/result_\"+img_name\r\n",
    "\r\n",
    "    cv2.imwrite(save_path, result)\r\n",
    "    cv2.imshow(save_path, result)\r\n"
   ],
   "outputs": [],
   "metadata": {}
  },
  {
   "cell_type": "code",
   "execution_count": 31,
   "source": [
    "img_path = './data/road_kor.jpg'\r\n",
    "main(img_path)\r\n",
    "print(\"Done!!\")"
   ],
   "outputs": [
    {
     "output_type": "stream",
     "name": "stdout",
     "text": [
      "Done!!\n"
     ]
    }
   ],
   "metadata": {}
  },
  {
   "cell_type": "code",
   "execution_count": null,
   "source": [],
   "outputs": [],
   "metadata": {}
  }
 ],
 "metadata": {
  "orig_nbformat": 4,
  "language_info": {
   "name": "python",
   "version": "3.8.10",
   "mimetype": "text/x-python",
   "codemirror_mode": {
    "name": "ipython",
    "version": 3
   },
   "pygments_lexer": "ipython3",
   "nbconvert_exporter": "python",
   "file_extension": ".py"
  },
  "kernelspec": {
   "name": "python3",
   "display_name": "Python 3.8.10 64-bit ('tengpu': conda)"
  },
  "interpreter": {
   "hash": "be9da68a2e5ae60033c8673d7ecd6236339231adc2ba567b761567d167edd1e5"
  }
 },
 "nbformat": 4,
 "nbformat_minor": 2
}